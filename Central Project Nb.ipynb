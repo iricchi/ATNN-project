{
 "cells": [
  {
   "cell_type": "markdown",
   "metadata": {},
   "source": [
    "# Project: how a partition definition can change your results?"
   ]
  },
  {
   "cell_type": "markdown",
   "metadata": {},
   "source": [
    "#### Note: This Jupyter Notebook will have all the info for the final project including the centralized scripts"
   ]
  },
  {
   "cell_type": "markdown",
   "metadata": {},
   "source": [
    "### Project Definition:\n",
    "\n",
    "The idea is to compare two partitions: \n",
    "1) Defined on Structure (anatomical information) \n",
    "2) Defined on Function Resting State \n",
    "\n",
    "by running Louvain Algo in the two cases (TBD: zoom parameter).\n",
    "\n",
    "\n",
    "#### Limitations and potential improvements:\n",
    "\n",
    "- Use of only one subject (we could think of putting together many subjects)\n",
    "- Extend it to patients\n",
    "\n",
    "\n"
   ]
  },
  {
   "cell_type": "markdown",
   "metadata": {},
   "source": [
    "## To do list:\n"
   ]
  },
  {
   "cell_type": "code",
   "execution_count": null,
   "metadata": {},
   "outputs": [],
   "source": []
  }
 ],
 "metadata": {
  "kernelspec": {
   "display_name": "Python 3",
   "language": "python",
   "name": "python3"
  },
  "language_info": {
   "codemirror_mode": {
    "name": "ipython",
    "version": 3
   },
   "file_extension": ".py",
   "mimetype": "text/x-python",
   "name": "python",
   "nbconvert_exporter": "python",
   "pygments_lexer": "ipython3",
   "version": "3.7.4"
  }
 },
 "nbformat": 4,
 "nbformat_minor": 2
}

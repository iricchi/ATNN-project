{
 "cells": [
  {
   "cell_type": "markdown",
   "metadata": {},
   "source": [
    "# Obtaining communities\n",
    "The goal of this part is to extract communities in a structural graph. The graph is based on DTI data, subject-wise.\n",
    "First, we'll perform community detection, relying on Louvain's algorithm coupled with consensus clustering (co-occurence based)."
   ]
  },
  {
   "cell_type": "code",
   "execution_count": 1,
   "metadata": {},
   "outputs": [
    {
     "name": "stderr",
     "output_type": "stream",
     "text": [
      "/home/guibertf/nilearn/nilearn/datasets/__init__.py:93: FutureWarning: Fetchers from the nilearn.datasets module will be updated in version 0.9 to return python strings instead of bytes and Pandas dataframes instead of Numpy arrays.\n",
      "  warn(\"Fetchers from the nilearn.datasets module will be \"\n"
     ]
    }
   ],
   "source": [
    "from scipy.io import loadmat\n",
    "import community as community_louvain\n",
    "import matplotlib.cm as cm\n",
    "import matplotlib.pyplot as plt\n",
    "import networkx as nx\n",
    "\n",
    "import nilearn\n",
    "from nilearn.datasets import fetch_atlas_aal\n",
    "import nilearn.plotting as plotting\n",
    "import numpy as np"
   ]
  },
  {
   "cell_type": "markdown",
   "metadata": {},
   "source": [
    "First, we load the data of the subject. In particular, we want the structural, which is an adjacency matrix $A$ representing fiber density between any pair of regions, ie:\n",
    "$$A_{i,j} = \\frac{fc(i,j)}{fl(i,j) * \\frac{|i|+|j|}{2}}$$ where $fc(i,j)$ the number of fibers from i to j, $fl(i,j)$ the mean fiber length of fibers going from i to j and $|i|$ the size of region $i$.\n",
    "(Nb: From visual inspection, it seems as though directionality is not taken into account here, making $A$ symmetric)\n",
    "\n",
    "Since we perform community assignement based on a notion such as degree (or weights in the present case), it makes sense to keep the weights as is and not take their inverse: the more fibers here, the higher the \"degree\" of node i with j, which will yield to a higher score between them."
   ]
  },
  {
   "cell_type": "code",
   "execution_count": 2,
   "metadata": {},
   "outputs": [],
   "source": [
    "# load the subject data\n",
    "G = nx.convert_matrix.from_numpy_matrix(loadmat('../Data/sub1_SC.mat')['sub1_SC'])\n",
    "# draw the graph\n",
    "# Important: call this one only once, so that node positions are fixed afterwards \n",
    "# (The spring representation does not necessarily reach a global extremum and might lead to visually \n",
    "# different graph orientations and confusion conclusions)\n",
    "pos = nx.spring_layout(G, scale=10) "
   ]
  },
  {
   "cell_type": "code",
   "execution_count": null,
   "metadata": {},
   "outputs": [],
   "source": [
    "%matplotlib notebook\n",
    "# compute the best partition\n",
    "partition = community_louvain.best_partition(G, weight='weight', resolution=0.5)\n",
    "\n",
    "# color the nodes according to their partition\n",
    "cmap = cm.get_cmap('hsv', max(partition.values()) + 1)\n",
    "nx.draw_networkx_nodes(G, pos, partition.keys(), node_size=40,\n",
    "                       cmap=cmap, node_color=list(partition.values()))\n",
    "nx.draw_networkx_edges(G, pos, alpha=0.5)\n",
    "plt.show()"
   ]
  },
  {
   "cell_type": "markdown",
   "metadata": {},
   "source": [
    "Let's visualize these nodes on the original atlas. The atlas used is the AAL atlas, without cerebellum and vermis area. In other words, AAL 116, with the first 90 regions used.\n",
    "Let's take these regions, compute their coordinates, and use it to display our nodes on these coordinates."
   ]
  },
  {
   "cell_type": "code",
   "execution_count": null,
   "metadata": {},
   "outputs": [],
   "source": [
    "aal = fetch_atlas_aal()\n",
    "# Get coordinates of the regions in AAL atlas and their corresponding labels\n",
    "coordinates, label_list = plotting.find_parcellation_cut_coords(labels_img=aal['maps'], return_label_names=True) # Note that we compute coordinates for all 116 nodes here, but it doesn't really matter\n",
    "\n",
    "# Re-order coordinates in sorted order of labels, so that they match with the original atlas' order\n",
    "coords = coordinates[np.argsort(label_list)]\n",
    "\n",
    "# We only consider the first 90 regions and ignore cerebellum\n",
    "limit = 90\n",
    "\n",
    "def plot_markers_based_on_partition(coords, partition, cmap, output_name='community_example.html'):\n",
    "    \"\"\"\n",
    "    Given markers (defined by their coordinates) as well as a color map function and a partition vector, plot in \n",
    "    interactive 3D plot markers in MNI space, overlaid on a glass brain.\n",
    "    The visualization is saved in the Results subdirectory as an HTML file with the provided name.\n",
    "    :param coords: 3D coordinates of each marker in MNI space (should be N x 3, where N the number of markers)\n",
    "    :param partition: Nx1 vector of assignments, denoting for each marker its community\n",
    "    :param cmap: Colormap function\n",
    "    :param output_name: Name under which to save visualization. (Default: community_example.html)\n",
    "    :return: \n",
    "    \"\"\"\n",
    "    # Plot first 90 region coordinates. Each node is colored according to its community value\n",
    "    view = plotting.view_markers(coords, cmap(partition)) \n",
    "    view.save_as_html('../Results/' + output_name)\n",
    "    view.open_in_browser()\n",
    "    return view\n",
    "    \n",
    "plot_markers_based_on_partition(coords[:limit], list(partition.values())[:limit], cmap)"
   ]
  },
  {
   "cell_type": "markdown",
   "metadata": {},
   "source": [
    "## Consensus clustering\n",
    "Based on this article: https://www.nature.com/articles/srep00336#rightslink"
   ]
  },
  {
   "cell_type": "code",
   "execution_count": null,
   "metadata": {},
   "outputs": [],
   "source": [
    "from consensus_clustering import pairwise_accord_naive, are_equal_up_to_bijection"
   ]
  },
  {
   "cell_type": "code",
   "execution_count": null,
   "metadata": {},
   "outputs": [],
   "source": [
    "def compute_consensus_from_graph(graph, number_partitions, threshold, resolution):\n",
    "    \"\"\"\n",
    "    Applies Louvain algorithm number_partitions times, with provided resolution.\n",
    "    For each partition, compute the pairwise accordance (ie: if two nodes are grouped in same community or not), and constitute consensus matrix as the sum of these accordance matrices\n",
    "    The consensus matrix is then normalized by the total number of partitions and thresholded by the provided threshold value.\n",
    "    \n",
    "    :param graph: The graph on which to apply the algorithm\n",
    "    :param number_partitions: Number of different partitions to compute\n",
    "    :param threshold: Value with which to threshold the consensus matrix, setting all entries below threshold to zero\n",
    "    :param resolution: Resolution to use in the Louvain algorithm\n",
    "    \n",
    "    :return consensus_matrix, the consensus matrix obtained by the procedure\n",
    "    :return partitions, the number_partitions partitions obtained by the procedure\n",
    "    \"\"\"\n",
    "    n_nodes = len(list(graph.nodes))\n",
    "    consensus_matrix = np.zeros((n_nodes, n_nodes))\n",
    "    partitions = np.zeros((number_partitions, n_nodes))\n",
    "    # First get consensus matrix\n",
    "    for i in range(0, number_partitions):\n",
    "        partition = community_louvain.best_partition(graph, weight='weight', resolution=resolution)\n",
    "        partitions[i, :] =  np.asarray(list(partition.values()))\n",
    "        consensus_matrix += pairwise_accord_naive(partitions[i, :])\n",
    "    consensus_matrix /= number_partitions\n",
    "    # Threshold\n",
    "    consensus_matrix[consensus_matrix < threshold] = 0.0\n",
    "    return consensus_matrix, partitions"
   ]
  },
  {
   "cell_type": "code",
   "execution_count": null,
   "metadata": {},
   "outputs": [],
   "source": [
    "\n",
    "def consensus_clustering(graph, number_partitions, threshold, n_steps, resolution):\n",
    "    \"\"\"\n",
    "    Overall consensus clustering algorithm described in https://www.nature.com/articles/srep00336#rightslink\n",
    "    A first consensus matrix is computed on the original graph.\n",
    "    Then this consensus matrix is treated as an adjacency matrix itself, on which we apply the consensus procedure until either\n",
    "    convergence (meaning all partitions are the same) or maximum number of steps are reached.\n",
    "\n",
    "    :param graph: The original graph on which to perform consensus clustering\n",
    "    :param number_partitions: Number of partitions at each iteration of the clustering algorithm\n",
    "    :param threshold: The threshold used in consensus matrix computation\n",
    "    :param n_steps: The maximum number of steps before termination of the algorithm, should it fail to reach convergence\n",
    "    :param resolution: The resolution for Louvain's algorithm\n",
    "\n",
    "    :return partitions: The last number_partitions derived by the algorithm. If algorithm is converged, they are all equal up to bijection.\n",
    "    :return i: The iteration at which the algorithm finished. Useful to assess how quickly it converged or if it even converged at all.\n",
    "    \"\"\"\n",
    "    consensus_matrix, partitions = compute_consensus_from_graph(graph, number_partitions, threshold, resolution)\n",
    "\n",
    "    # Until convergence or number of steps exceeded\n",
    "    for i in range(0, n_steps):\n",
    "        # Convert consensus matrix to graph\n",
    "        G = nx.convert_matrix.from_numpy_matrix(consensus_matrix)\n",
    "        # Get new consensus matrix\n",
    "        consensus_matrix, partitions = compute_consensus_from_graph(G, number_partitions, threshold, resolution)\n",
    "\n",
    "        # Now we must ask if all category vectors are the same or not\n",
    "        should_stop = True\n",
    "        for vi in range(0, number_partitions - 1):\n",
    "            should_stop = are_equal_up_to_bijection(partitions[vi], partitions[vi + 1])\n",
    "            if not should_stop:\n",
    "                break\n",
    "        if should_stop:\n",
    "            break\n",
    "    return partitions, i"
   ]
  },
  {
   "cell_type": "code",
   "execution_count": null,
   "metadata": {},
   "outputs": [],
   "source": [
    "partitions, i = consensus_clustering(G, 100, 0.1, 500, 0.4)"
   ]
  },
  {
   "cell_type": "code",
   "execution_count": null,
   "metadata": {},
   "outputs": [],
   "source": [
    "partitions"
   ]
  },
  {
   "cell_type": "code",
   "execution_count": null,
   "metadata": {},
   "outputs": [],
   "source": [
    "i"
   ]
  },
  {
   "cell_type": "markdown",
   "metadata": {},
   "source": [
    "In this participant's case, we have somehow reached a good partition at the first iteration, which is nice.\n",
    "Now, we might want to visualize it. Because of convergence, we *know* all partitions are identical because they are related bijectively, so we just pick the first one without loss of generality to display it:"
   ]
  },
  {
   "cell_type": "code",
   "execution_count": null,
   "metadata": {},
   "outputs": [],
   "source": [
    "p = partitions[0].astype(int)\n",
    "cmap = cm.get_cmap('hsv', max(p) + 1)"
   ]
  },
  {
   "cell_type": "code",
   "execution_count": null,
   "metadata": {},
   "outputs": [],
   "source": [
    "plot_markers_based_on_partition(coords[:limit], p, cmap)"
   ]
  },
  {
   "cell_type": "code",
   "execution_count": null,
   "metadata": {},
   "outputs": [],
   "source": []
  }
 ],
 "metadata": {
  "kernelspec": {
   "display_name": "Python 3",
   "language": "python",
   "name": "python3"
  },
  "language_info": {
   "codemirror_mode": {
    "name": "ipython",
    "version": 3
   },
   "file_extension": ".py",
   "mimetype": "text/x-python",
   "name": "python",
   "nbconvert_exporter": "python",
   "pygments_lexer": "ipython3",
   "version": "3.8.5"
  }
 },
 "nbformat": 4,
 "nbformat_minor": 4
}

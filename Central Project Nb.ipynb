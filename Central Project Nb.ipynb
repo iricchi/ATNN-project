{
 "cells": [
  {
   "cell_type": "markdown",
   "metadata": {},
   "source": [
    "# Project: how a partition definition can change your results?"
   ]
  },
  {
   "cell_type": "markdown",
   "metadata": {},
   "source": [
    "#### Note: This Jupyter Notebook will have all the info for the final project including the centralized scripts"
   ]
  },
  {
   "cell_type": "markdown",
   "metadata": {},
   "source": [
    "### Project Definition:\n",
    "\n",
    "The idea is to compare two partitions: \n",
    "\n",
    "1) Defined on Structure (anatomical information) \n",
    "2) Defined on Function Resting State \n",
    "\n",
    "by running Louvain Algo in the two cases (TBD: zoom parameter).\n",
    "\n",
    "\n",
    "#### Limitations and potential improvements:\n",
    "\n",
    "- Use of only one subject (we could think of putting together many subjects)\n",
    "- Extend it to patients\n",
    "\n",
    "\n",
    "## Milestones - To Dos - plots\n",
    "\n",
    "[ ] Definition of the two partitions and plot the brain with the two aside to have a visualization on how they differ\n",
    "[ ] Extract Hubbbiness defined as high integration and low segregation :\n",
    "        - argsort integration (ascending) and segregation (descending) values and rank them \n",
    "        - define the sum of the ranks (si) and normalize in [0,1] \n",
    "        - Hubbynes h_i = 1 - si\n",
    "        \n",
    "    NOTE: should we have a close look at at first and last quantiles for hubs/non hubs or synthetize everything\n",
    "[ ] Comparison to behavior (Hubbiness wrt the different task epochs or boxplots to see ditstribution of values grouped by task epoch (e.g. leg, toungue movements...)\n",
    "\n",
    "\n",
    "### Additional to do list:\n",
    "\n",
    "- Deal with zeros and negative edges\n",
    "- Look at other tasks (Emotion, Memory, Social)\n",
    "- Explore zoom parameter \n",
    "\n",
    "\n"
   ]
  },
  {
   "cell_type": "markdown",
   "metadata": {},
   "source": [
    "## Main figures for presentation:\n",
    "\n",
    "1) Brain with FC partition and SC partition nodal colors \n",
    "\n",
    "2) Hubbiness matrix in the 2 partitions \n",
    "\n",
    "3) Gif (movie)\n",
    "\n"
   ]
  },
  {
   "cell_type": "code",
   "execution_count": 1,
   "metadata": {},
   "outputs": [],
   "source": [
    "import numpy as np\n",
    "import matplotlib.pyplot as plt\n",
    "from src import consensus_clustering"
   ]
  },
  {
   "cell_type": "code",
   "execution_count": null,
   "metadata": {},
   "outputs": [],
   "source": []
  }
 ],
 "metadata": {
  "kernelspec": {
   "display_name": "Python 3",
   "language": "python",
   "name": "python3"
  },
  "language_info": {
   "codemirror_mode": {
    "name": "ipython",
    "version": 3
   },
   "file_extension": ".py",
   "mimetype": "text/x-python",
   "name": "python",
   "nbconvert_exporter": "python",
   "pygments_lexer": "ipython3",
   "version": "3.7.4"
  }
 },
 "nbformat": 4,
 "nbformat_minor": 2
}
